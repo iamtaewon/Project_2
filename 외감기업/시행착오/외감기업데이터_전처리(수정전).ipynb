{
 "cells": [
  {
   "cell_type": "code",
   "execution_count": 1,
   "metadata": {},
   "outputs": [],
   "source": [
    "import pandas as pd\n",
    "import numpy as np"
   ]
  },
  {
   "cell_type": "code",
   "execution_count": 30,
   "metadata": {},
   "outputs": [],
   "source": [
    "df_외감=pd.read_csv('./Dataset/외감raw2.csv',encoding='euc-kr')"
   ]
  },
  {
   "cell_type": "code",
   "execution_count": 31,
   "metadata": {},
   "outputs": [
    {
     "data": {
      "text/plain": [
       "(295975, 53)"
      ]
     },
     "execution_count": 31,
     "metadata": {},
     "output_type": "execute_result"
    }
   ],
   "source": [
    "df_외감.shape"
   ]
  },
  {
   "cell_type": "markdown",
   "metadata": {},
   "source": [
    "### 감사의견 t-1,t-2시점 만들기"
   ]
  },
  {
   "cell_type": "code",
   "execution_count": 3,
   "metadata": {},
   "outputs": [],
   "source": [
    "mask = df_외감['회사명'] == df_외감['회사명'].shift(-1)\n",
    "df_외감['t-1감사의견코드'] = np.where(mask,df_외감['감사의견코드'].shift(-1), np.nan)\n",
    "df_외감['t-2감사의견코드'] = np.where(mask,df_외감['감사의견코드'].shift(-2), np.nan)"
   ]
  },
  {
   "cell_type": "code",
   "execution_count": 4,
   "metadata": {},
   "outputs": [],
   "source": [
    "df_외감.drop('감사의견코드',axis=1,inplace=True)"
   ]
  },
  {
   "cell_type": "code",
   "execution_count": 5,
   "metadata": {},
   "outputs": [],
   "source": [
    "# df_외감[['회사명','감사의견코드','t-1감사의견코드']].iloc[:30,:]  -------------->   (테스트용 코드)"
   ]
  },
  {
   "cell_type": "code",
   "execution_count": 6,
   "metadata": {},
   "outputs": [],
   "source": [
    "# df_외감.index[df_외감.index.str.contains('부동산투자회사')].shape\n",
    "# df_외감.index[df_외감.index.str.contains('금융투자주식회사')].shape\n",
    "# df_외감.index[df_외감.index.str.contains('선박투자회사')].shape\n",
    "# df_외감.index[df_외감.index.str.contains('투자회사')].shape\n",
    "# df_외감.index[df_외감.index.str.contains('투자주식회사')].shape\n",
    "# df_외감.index[df_외감.index.str.contains('투자개발')].shape\n",
    "# df_외감.index[df_외감.index.str.contains('투자')].shape\n"
   ]
  },
  {
   "cell_type": "markdown",
   "metadata": {},
   "source": [
    "- 부동산투자회사 : 823개\n",
    "- 금융투자주식회사 : 128개\n",
    "- 선박투자회사 : 474개\n",
    "- 투자회사 : 1301개\n",
    "- 투자주식회사 : 198개\n",
    "- 투자개발 : 294개\n",
    "- 투자 : 2030개"
   ]
  },
  {
   "cell_type": "code",
   "execution_count": 7,
   "metadata": {},
   "outputs": [],
   "source": [
    "# # pd.set_option('display.max_seq_items',None)\n",
    "# df_외감.index[df_외감.index.str.contains('투자')].unique()"
   ]
  },
  {
   "cell_type": "code",
   "execution_count": 8,
   "metadata": {},
   "outputs": [],
   "source": [
    "df_외감.set_index('회사명',inplace=True)"
   ]
  },
  {
   "cell_type": "code",
   "execution_count": 9,
   "metadata": {},
   "outputs": [],
   "source": [
    "df_외감.drop(['SK리츠운용주식회사', '굿모닝대신리츠주식회사', '(주)동방리츠', '대영리츠건설(주)', '드림리츠(주)',\n",
    "       '(주)리츠라인', '(주)리츠산업', '(주)리츠홀딩스', '(주)블리츠웨이', '메리츠건설(주)',\n",
    "       '(주)서울리츠임대주택제2호위탁관리부동산투자회사', '신한리츠운용주식회사',\n",
    "       '엔에이치농협리츠운용주식회사', '영신리츠팜주식회사', '(주)제이알리츠', '월드리츠개발주식회사',\n",
    "       '주식회사경기리츠공공임대제1호위탁관리부동산투자회사', '주식회사경성리츠', '주식회사글리츠리츠',\n",
    "       '주식회사대신케이리츠물류1호위탁관리부동산투자회사', '주식회사리츠파크', '주식회사무등리츠', '주식회사비앤에스리츠',\n",
    "       '주식회사서울리츠임대주택제1호위탁관리부동산투자회사', '주식회사서울리츠임대주택제3호위탁관리부동산투자회사',\n",
    "       '주식회사서울리츠임대주택제4호위탁관리부동산투자회사', '주식회사아이에이치큐리츠', '주식회사와이에스리츠',\n",
    "       '주식회사제로에너지임대리츠2호위탁관리부동산투자회사', '주식회사조일리츠', \n",
    "       '주식회사토지지원리츠제1호위탁관리부동산투자회사', '주식회사토지지원리츠제2호위탁관리부동산투자회사', '주식회사평안리츠',\n",
    "       '주식회사플리츠', '주식회사하우리츠', '주식회사힘내라리츠', '(주)청리츠앤파트너스',\n",
    "       '(주)케이리츠투자운용', '케이리츠주식회사', '켄달스퀘어리츠운용주식회사', '한국리츠주식회사'],axis=0,inplace=True)"
   ]
  },
  {
   "cell_type": "code",
   "execution_count": 10,
   "metadata": {},
   "outputs": [],
   "source": [
    "df_외감.drop(['HSBC펀드서비스(주)', '주식회사어니스트펀드','주식회사인천투자펀드2', '주식회사피플펀드컴퍼니'],axis=0,inplace=True)"
   ]
  },
  {
   "cell_type": "code",
   "execution_count": 11,
   "metadata": {},
   "outputs": [],
   "source": [
    "df_외감.drop(['(주)건설투자', '(주)국제선박투자운용','(유)비티투자','스마트투자파트너스주식회사', '(주)에스와이투자자문', '신동해투자일호피에프브이(주)',\n",
    "       '아이비투자검단(주)', '아이비투자을지로주식회사', '에이스투자(주)', '에이치티투자금융주식회사',\n",
    "       '엠제이투자시스템주식회사', '유한회사한일자산관리앤투자', '인터씨티개발투자(주)', '일조투자디앤씨(주)',\n",
    "       '주식회사건인투자', '주식회사드림부동산투자연구소', '주식회사세원투자건업', '주식회사세원투자산업',\n",
    "       '주식회사아프로투자', '주식회사에이디투자', '주식회사에이치엠지기술투자',\n",
    "       '주식회사이상투자그룹', '주식회사제이에스투자원', '주식회사케이티투자운용',\n",
    "       '주식회사테라투자파트너스', '주식회사한국민간인프라투자', '주식회사한우즈벡실린더투자', '주식회사화신투자',\n",
    "       '(주)투자가이드', '케이디기술투자(주)', '케이엔씨개발투자컨설팅', '코레이트투자운용주식회사', '(주)한진정석투자',\n",
    "       '(주)현대부동산지분투자', '포항프라이머스프로젝트투자금융주식회사', '한원광장프로젝트투자금융주식회사'],axis=0,inplace=True)"
   ]
  },
  {
   "cell_type": "code",
   "execution_count": 12,
   "metadata": {},
   "outputs": [],
   "source": [
    "# df_외감.index[df_외감.index.str.contains('투자개발')].unique()"
   ]
  },
  {
   "cell_type": "markdown",
   "metadata": {},
   "source": [
    "### 투자 회사, 부동산 투자회사, 리츠 삭제"
   ]
  },
  {
   "cell_type": "code",
   "execution_count": 13,
   "metadata": {},
   "outputs": [],
   "source": [
    "df_외감.drop(df_외감.index[df_외감.index.str.contains('부동산투자회사')], axis=0, inplace=True)\n",
    "df_외감.drop(df_외감.index[df_외감.index.str.contains('금융투자주식회사')], axis=0, inplace=True)\n",
    "# df_외감.drop(df_외감.index[df_외감.index.str.contains('리츠')], axis=0, inplace=True)\n",
    "df_외감.drop(df_외감.index[df_외감.index.str.contains('선박투자회사')], axis=0, inplace=True)\n",
    "df_외감.drop(df_외감.index[df_외감.index.str.contains('투자회사')], axis=0, inplace=True)\n",
    "df_외감.drop(df_외감.index[df_외감.index.str.contains('투자주식회사')], axis=0, inplace=True)\n",
    "df_외감.drop(df_외감.index[df_외감.index.str.contains('투자개발')], axis=0, inplace=True)\n",
    "df_외감.drop(df_외감.index[df_외감.index.str.contains('부동산투지회사')], axis=0, inplace=True)\n",
    "df_외감.drop(df_외감.index[df_외감.index.str.contains('금융투자')], axis=0, inplace=True)"
   ]
  },
  {
   "cell_type": "markdown",
   "metadata": {},
   "source": [
    "### 외국계 파일 삭제(보류)"
   ]
  },
  {
   "cell_type": "code",
   "execution_count": 14,
   "metadata": {},
   "outputs": [],
   "source": [
    "df_외감['거래소코드'] = df_외감['거래소코드'].astype(str).str.zfill(6)\n",
    "# df_외감 = df_외감[~df_외감['거래소코드'].astype(str).str.startswith('9')]\n",
    "# df_외감 = df_외감[~df_외감['거래소코드'].astype(str).str.endswith('5')]"
   ]
  },
  {
   "cell_type": "code",
   "execution_count": 15,
   "metadata": {},
   "outputs": [
    {
     "data": {
      "text/plain": [
       "거래소코드                                     0\n",
       "회계년도                                      0\n",
       "통계청 한국표준산업분류 코드 10차(대분류)                  0\n",
       "부채비율                                     80\n",
       "당좌비율                                     80\n",
       "유동비율                                     80\n",
       "이자보상배율(이자비용)                             80\n",
       "영업활동으로 인한 현금흐름(간접법)(*)(IFRS연결)(천원)       69\n",
       "이자비용(IFRS연결)(천원)                         69\n",
       "차입금의존도                                   80\n",
       "자기자본구성비율                                 80\n",
       "당기순이익(손실)(IFRS연결)(천원)                    69\n",
       "감가상각비(백만원)                             1998\n",
       "금융비용(백만원)                               299\n",
       "단기차입금(*)(IFRS연결)(천원)                     69\n",
       "유동성장기부채(*)(IFRS연결)(천원)                   69\n",
       "장기차입금(*)(IFRS연결)(천원)                     69\n",
       "법인세비용차감전(계속사업)손익(백만원)                   103\n",
       "매출액영업이익률                                 87\n",
       "자기자본순이익률                                 87\n",
       "총자본순이익률                                  87\n",
       "매출액(수익)(*)(IFRS연결)(천원)                   69\n",
       "총자본회전률                                   79\n",
       "자기자본회전률                                  79\n",
       "운전자본회전률                                  79\n",
       "순운전자본회전률                                 79\n",
       "재고자산회전률                                  79\n",
       "당좌자산회전률                                  79\n",
       "유동자산회전률                                  79\n",
       "매출액증가율                                   78\n",
       "총자본증가율                                   78\n",
       "자기자본증가율                                  78\n",
       "순이익증가율                                   78\n",
       "유형자산증가율                                  78\n",
       "유동자산증가율                                  78\n",
       "재고자산증가율                                  78\n",
       "영업이익증가율                                  78\n",
       "총자본투자효율                                  92\n",
       "부가가치율                                    92\n",
       "노동소득분배율                                  92\n",
       "자본분배율                                    92\n",
       "이윤분배율                                    92\n",
       "투자활동으로 인한 현금흐름(*)(IFRS연결)(천원)            69\n",
       "재무활동으로 인한 현금흐름(*)(IFRS연결)(천원)            69\n",
       "자산(*)(IFRS연결)(천원)                        69\n",
       "부채(*)(IFRS연결)(천원)                        69\n",
       "자본(*)(IFRS연결)(천원)                        69\n",
       "연구개발비(IFRS연결)(천원)                        73\n",
       "통계청 한국표준산업분류 10차(대분류)                     0\n",
       "자본금(*)(IFRS연결)(천원)                       69\n",
       "* (정상)영업손익(보고서기재)(IFRS연결)(천원)            69\n",
       "t-1감사의견코드                             55225\n",
       "t-2감사의견코드                             83401\n",
       "dtype: int64"
      ]
     },
     "execution_count": 15,
     "metadata": {},
     "output_type": "execute_result"
    }
   ],
   "source": [
    "df_외감.isna().sum()"
   ]
  },
  {
   "cell_type": "code",
   "execution_count": 29,
   "metadata": {},
   "outputs": [
    {
     "data": {
      "text/plain": [
       "(293843, 54)"
      ]
     },
     "execution_count": 29,
     "metadata": {},
     "output_type": "execute_result"
    }
   ],
   "source": [
    "df_외감.shape"
   ]
  },
  {
   "cell_type": "code",
   "execution_count": 16,
   "metadata": {},
   "outputs": [],
   "source": [
    "df_외감['t-1감사의견코드']=df_외감['t-1감사의견코드'].map({\n",
    "    'AG': 1,\n",
    "    'DS':1,\n",
    "    'DI':1,\n",
    "    'DU':1,\n",
    "    'QA':0,\n",
    "    'QC':0,\n",
    "    'QG':0,\n",
    "    'QQ':0,\n",
    "    'QS':1,\n",
    "    'QU':0,\n",
    "    'UQ':0,\n",
    "    'ZZ':1\n",
    "})\n",
    "df_외감['t-2감사의견코드']=df_외감['t-2감사의견코드'].map({\n",
    "    'AG': 1,\n",
    "    'DS':1,\n",
    "    'DI':1,\n",
    "    'DU':1,\n",
    "    'QA':0,\n",
    "    'QC':0,\n",
    "    'QG':0,\n",
    "    'QQ':0,\n",
    "    'QS':1,\n",
    "    'QU':0,\n",
    "    'UQ':0,\n",
    "    'ZZ':1\n",
    "})\n",
    "\n",
    "\n"
   ]
  },
  {
   "cell_type": "code",
   "execution_count": 17,
   "metadata": {},
   "outputs": [
    {
     "data": {
      "text/plain": [
       "t-1감사의견코드\n",
       "0.0    219939\n",
       "1.0     18679\n",
       "Name: count, dtype: int64"
      ]
     },
     "execution_count": 17,
     "metadata": {},
     "output_type": "execute_result"
    }
   ],
   "source": [
    "df_외감['t-1감사의견코드'].value_counts()"
   ]
  },
  {
   "cell_type": "code",
   "execution_count": 18,
   "metadata": {},
   "outputs": [
    {
     "data": {
      "text/plain": [
       "t-2감사의견코드\n",
       "0.0    200801\n",
       "1.0      9641\n",
       "Name: count, dtype: int64"
      ]
     },
     "execution_count": 18,
     "metadata": {},
     "output_type": "execute_result"
    }
   ],
   "source": [
    "df_외감['t-2감사의견코드'].value_counts()"
   ]
  },
  {
   "cell_type": "code",
   "execution_count": 19,
   "metadata": {},
   "outputs": [
    {
     "data": {
      "text/plain": [
       "Index(['거래소코드', '회계년도', '통계청 한국표준산업분류 코드 10차(대분류)', '부채비율', '당좌비율', '유동비율',\n",
       "       '이자보상배율(이자비용)', '영업활동으로 인한 현금흐름(간접법)(*)(IFRS연결)(천원)',\n",
       "       '이자비용(IFRS연결)(천원)', '차입금의존도', '자기자본구성비율', '당기순이익(손실)(IFRS연결)(천원)',\n",
       "       '감가상각비(백만원)', '금융비용(백만원)', '단기차입금(*)(IFRS연결)(천원)',\n",
       "       '유동성장기부채(*)(IFRS연결)(천원)', '장기차입금(*)(IFRS연결)(천원)',\n",
       "       '법인세비용차감전(계속사업)손익(백만원)', '매출액영업이익률', '자기자본순이익률', '총자본순이익률',\n",
       "       '매출액(수익)(*)(IFRS연결)(천원)', '총자본회전률', '자기자본회전률', '운전자본회전률', '순운전자본회전률',\n",
       "       '재고자산회전률', '당좌자산회전률', '유동자산회전률', '매출액증가율', '총자본증가율', '자기자본증가율',\n",
       "       '순이익증가율', '유형자산증가율', '유동자산증가율', '재고자산증가율', '영업이익증가율', '총자본투자효율',\n",
       "       '부가가치율', '노동소득분배율', '자본분배율', '이윤분배율', '투자활동으로 인한 현금흐름(*)(IFRS연결)(천원)',\n",
       "       '재무활동으로 인한 현금흐름(*)(IFRS연결)(천원)', '자산(*)(IFRS연결)(천원)',\n",
       "       '부채(*)(IFRS연결)(천원)', '자본(*)(IFRS연결)(천원)', '연구개발비(IFRS연결)(천원)',\n",
       "       '통계청 한국표준산업분류 10차(대분류)', '자본금(*)(IFRS연결)(천원)',\n",
       "       '* (정상)영업손익(보고서기재)(IFRS연결)(천원)', 't-1감사의견코드', 't-2감사의견코드'],\n",
       "      dtype='object')"
      ]
     },
     "execution_count": 19,
     "metadata": {},
     "output_type": "execute_result"
    }
   ],
   "source": [
    "df_외감.columns"
   ]
  },
  {
   "cell_type": "code",
   "execution_count": 20,
   "metadata": {},
   "outputs": [],
   "source": [
    "df_외감['자본잠식률']=(df_외감['자본금(*)(IFRS연결)(천원)'] - df_외감['자본(*)(IFRS연결)(천원)'])/df_외감['자본금(*)(IFRS연결)(천원)']"
   ]
  },
  {
   "cell_type": "markdown",
   "metadata": {},
   "source": [
    "#### 자본잠식으로 0.0:   4084개가 1.0으로 바뀐다"
   ]
  },
  {
   "cell_type": "code",
   "execution_count": 21,
   "metadata": {},
   "outputs": [
    {
     "data": {
      "text/plain": [
       "t-1감사의견코드\n",
       "0.0    3627\n",
       "1.0    1211\n",
       "Name: count, dtype: int64"
      ]
     },
     "execution_count": 21,
     "metadata": {},
     "output_type": "execute_result"
    }
   ],
   "source": [
    "df_외감[df_외감['자본잠식률'].values >= 50]['t-1감사의견코드'].value_counts()\n"
   ]
  },
  {
   "cell_type": "code",
   "execution_count": 22,
   "metadata": {},
   "outputs": [
    {
     "data": {
      "text/plain": [
       "t-2감사의견코드\n",
       "0.0    2959\n",
       "1.0     895\n",
       "Name: count, dtype: int64"
      ]
     },
     "execution_count": 22,
     "metadata": {},
     "output_type": "execute_result"
    }
   ],
   "source": [
    "df_외감[df_외감['자본잠식률'].values >= 50]['t-2감사의견코드'].value_counts()"
   ]
  },
  {
   "cell_type": "code",
   "execution_count": 23,
   "metadata": {},
   "outputs": [],
   "source": [
    "# df_외감.loc[(df_외감['자본잠식률'] >= 50).shift(-1), 't-1감사의견코드'] = 1.0  ---> 고민 필요..."
   ]
  },
  {
   "cell_type": "code",
   "execution_count": 24,
   "metadata": {},
   "outputs": [],
   "source": [
    "# df_외감[df_외감['자본잠식률'].values >= 50]['감사의견코드'].value_counts()"
   ]
  },
  {
   "cell_type": "code",
   "execution_count": 25,
   "metadata": {},
   "outputs": [],
   "source": [
    "# df_외감['감사의견코드'].value_counts()"
   ]
  },
  {
   "cell_type": "code",
   "execution_count": 26,
   "metadata": {},
   "outputs": [
    {
     "data": {
      "text/plain": [
       "Index(['거래소코드', '회계년도', '통계청 한국표준산업분류 코드 10차(대분류)', '부채비율', '당좌비율', '유동비율',\n",
       "       '이자보상배율(이자비용)', '영업활동으로 인한 현금흐름(간접법)(*)(IFRS연결)(천원)',\n",
       "       '이자비용(IFRS연결)(천원)', '차입금의존도', '자기자본구성비율', '당기순이익(손실)(IFRS연결)(천원)',\n",
       "       '감가상각비(백만원)', '금융비용(백만원)', '단기차입금(*)(IFRS연결)(천원)',\n",
       "       '유동성장기부채(*)(IFRS연결)(천원)', '장기차입금(*)(IFRS연결)(천원)',\n",
       "       '법인세비용차감전(계속사업)손익(백만원)', '매출액영업이익률', '자기자본순이익률', '총자본순이익률',\n",
       "       '매출액(수익)(*)(IFRS연결)(천원)', '총자본회전률', '자기자본회전률', '운전자본회전률', '순운전자본회전률',\n",
       "       '재고자산회전률', '당좌자산회전률', '유동자산회전률', '매출액증가율', '총자본증가율', '자기자본증가율',\n",
       "       '순이익증가율', '유형자산증가율', '유동자산증가율', '재고자산증가율', '영업이익증가율', '총자본투자효율',\n",
       "       '부가가치율', '노동소득분배율', '자본분배율', '이윤분배율', '투자활동으로 인한 현금흐름(*)(IFRS연결)(천원)',\n",
       "       '재무활동으로 인한 현금흐름(*)(IFRS연결)(천원)', '자산(*)(IFRS연결)(천원)',\n",
       "       '부채(*)(IFRS연결)(천원)', '자본(*)(IFRS연결)(천원)', '연구개발비(IFRS연결)(천원)',\n",
       "       '통계청 한국표준산업분류 10차(대분류)', '자본금(*)(IFRS연결)(천원)',\n",
       "       '* (정상)영업손익(보고서기재)(IFRS연결)(천원)', 't-1감사의견코드', 't-2감사의견코드', '자본잠식률'],\n",
       "      dtype='object')"
      ]
     },
     "execution_count": 26,
     "metadata": {},
     "output_type": "execute_result"
    }
   ],
   "source": [
    "df_외감.columns"
   ]
  },
  {
   "cell_type": "code",
   "execution_count": 27,
   "metadata": {},
   "outputs": [],
   "source": [
    "df_외감.columns=['거래소코드', '회계년도', '산업분류코드', '부채비율', '당좌비율', '유동비율',\n",
    "       '이자보상배율', 'OCF(천원)','이자비용(천원)', '차입금의존도', '자기자본구성비율', '당기순이익(천원)',\n",
    "       '감가상각비(백만원)', '금융비용(백만원)', '단기차입금(천원)','유동성장기부채(천원)', '장기차입금(천원)',\n",
    "       '법인세비용차감전손익(백만원)', '매출액영업이익률', '자기자본순이익률', '총자본순이익률',\n",
    "       '매출액(천원)', '총자본회전률', '자기자본회전률', '운전자본회전률', '순운전자본회전률',\n",
    "       '재고자산회전률', '당좌자산회전률', '유동자산회전률', '매출액증가율', '총자본증가율', '자기자본증가율',\n",
    "       '순이익증가율', '유형자산증가율', '유동자산증가율', '재고자산증가율', '영업이익증가율', '총자본투자효율',\n",
    "       '부가가치율', '노동소득분배율', '자본분배율', '이윤분배율', 'ICF(천원)','FCF(천원)', '자산총계(천원)',\n",
    "       '부채총계(천원)', '자본총계(천원)', '연구개발비(천원)', \n",
    "       '산업분류', '자본금(천원)','영업손익(천원)','t-1부실여부', 't-2부실여부', '자본잠식률']"
   ]
  },
  {
   "cell_type": "code",
   "execution_count": 28,
   "metadata": {},
   "outputs": [
    {
     "data": {
      "text/html": [
       "<div>\n",
       "<style scoped>\n",
       "    .dataframe tbody tr th:only-of-type {\n",
       "        vertical-align: middle;\n",
       "    }\n",
       "\n",
       "    .dataframe tbody tr th {\n",
       "        vertical-align: top;\n",
       "    }\n",
       "\n",
       "    .dataframe thead th {\n",
       "        text-align: right;\n",
       "    }\n",
       "</style>\n",
       "<table border=\"1\" class=\"dataframe\">\n",
       "  <thead>\n",
       "    <tr style=\"text-align: right;\">\n",
       "      <th></th>\n",
       "      <th>거래소코드</th>\n",
       "      <th>회계년도</th>\n",
       "      <th>산업분류코드</th>\n",
       "      <th>부채비율</th>\n",
       "      <th>당좌비율</th>\n",
       "      <th>유동비율</th>\n",
       "      <th>이자보상배율</th>\n",
       "      <th>OCF(천원)</th>\n",
       "      <th>이자비용(천원)</th>\n",
       "      <th>차입금의존도</th>\n",
       "      <th>...</th>\n",
       "      <th>자산총계(천원)</th>\n",
       "      <th>부채총계(천원)</th>\n",
       "      <th>자본총계(천원)</th>\n",
       "      <th>연구개발비(천원)</th>\n",
       "      <th>산업분류</th>\n",
       "      <th>자본금(천원)</th>\n",
       "      <th>영업손익(천원)</th>\n",
       "      <th>t-1부실여부</th>\n",
       "      <th>t-2부실여부</th>\n",
       "      <th>자본잠식률</th>\n",
       "    </tr>\n",
       "    <tr>\n",
       "      <th>회사명</th>\n",
       "      <th></th>\n",
       "      <th></th>\n",
       "      <th></th>\n",
       "      <th></th>\n",
       "      <th></th>\n",
       "      <th></th>\n",
       "      <th></th>\n",
       "      <th></th>\n",
       "      <th></th>\n",
       "      <th></th>\n",
       "      <th></th>\n",
       "      <th></th>\n",
       "      <th></th>\n",
       "      <th></th>\n",
       "      <th></th>\n",
       "      <th></th>\n",
       "      <th></th>\n",
       "      <th></th>\n",
       "      <th></th>\n",
       "      <th></th>\n",
       "      <th></th>\n",
       "    </tr>\n",
       "  </thead>\n",
       "  <tbody>\n",
       "    <tr>\n",
       "      <th>데코앤에프</th>\n",
       "      <td>088462</td>\n",
       "      <td>2019/12</td>\n",
       "      <td>14</td>\n",
       "      <td>774.79</td>\n",
       "      <td>35.41</td>\n",
       "      <td>98.08</td>\n",
       "      <td>-1.06</td>\n",
       "      <td>3925234.0</td>\n",
       "      <td>1244829.0</td>\n",
       "      <td>53.52</td>\n",
       "      <td>...</td>\n",
       "      <td>28751547.0</td>\n",
       "      <td>25548352.0</td>\n",
       "      <td>3203195.0</td>\n",
       "      <td>0.0</td>\n",
       "      <td>제조업</td>\n",
       "      <td>7292808.0</td>\n",
       "      <td>-2550076.0</td>\n",
       "      <td>1.0</td>\n",
       "      <td>0.0</td>\n",
       "      <td>0.560773</td>\n",
       "    </tr>\n",
       "    <tr>\n",
       "      <th>데코앤에프</th>\n",
       "      <td>088462</td>\n",
       "      <td>2020/12</td>\n",
       "      <td>14</td>\n",
       "      <td>0.00</td>\n",
       "      <td>51.93</td>\n",
       "      <td>94.10</td>\n",
       "      <td>-1.29</td>\n",
       "      <td>-533558.0</td>\n",
       "      <td>2112683.0</td>\n",
       "      <td>43.22</td>\n",
       "      <td>...</td>\n",
       "      <td>30041367.0</td>\n",
       "      <td>30836170.0</td>\n",
       "      <td>-794803.0</td>\n",
       "      <td>0.0</td>\n",
       "      <td>제조업</td>\n",
       "      <td>7292808.0</td>\n",
       "      <td>-2733410.0</td>\n",
       "      <td>0.0</td>\n",
       "      <td>0.0</td>\n",
       "      <td>1.108984</td>\n",
       "    </tr>\n",
       "    <tr>\n",
       "      <th>데코앤에프</th>\n",
       "      <td>088462</td>\n",
       "      <td>2021/12</td>\n",
       "      <td>14</td>\n",
       "      <td>44.28</td>\n",
       "      <td>400.84</td>\n",
       "      <td>838.36</td>\n",
       "      <td>-8.96</td>\n",
       "      <td>659968.0</td>\n",
       "      <td>174136.0</td>\n",
       "      <td>19.47</td>\n",
       "      <td>...</td>\n",
       "      <td>22470295.0</td>\n",
       "      <td>6895789.0</td>\n",
       "      <td>15574506.0</td>\n",
       "      <td>0.0</td>\n",
       "      <td>제조업</td>\n",
       "      <td>5964561.0</td>\n",
       "      <td>-1559990.0</td>\n",
       "      <td>0.0</td>\n",
       "      <td>NaN</td>\n",
       "      <td>-1.611174</td>\n",
       "    </tr>\n",
       "    <tr>\n",
       "      <th>데코앤에프</th>\n",
       "      <td>088462</td>\n",
       "      <td>2022/12</td>\n",
       "      <td>14</td>\n",
       "      <td>42.15</td>\n",
       "      <td>338.18</td>\n",
       "      <td>713.30</td>\n",
       "      <td>15.09</td>\n",
       "      <td>1196437.0</td>\n",
       "      <td>129821.0</td>\n",
       "      <td>17.37</td>\n",
       "      <td>...</td>\n",
       "      <td>24546915.0</td>\n",
       "      <td>7278502.0</td>\n",
       "      <td>17268413.0</td>\n",
       "      <td>0.0</td>\n",
       "      <td>제조업</td>\n",
       "      <td>5964561.0</td>\n",
       "      <td>1958654.0</td>\n",
       "      <td>NaN</td>\n",
       "      <td>NaN</td>\n",
       "      <td>-1.895169</td>\n",
       "    </tr>\n",
       "  </tbody>\n",
       "</table>\n",
       "<p>4 rows × 54 columns</p>\n",
       "</div>"
      ],
      "text/plain": [
       "        거래소코드     회계년도  산업분류코드    부채비율    당좌비율    유동비율  이자보상배율    OCF(천원)   \n",
       "회사명                                                                         \n",
       "데코앤에프  088462  2019/12      14  774.79   35.41   98.08   -1.06  3925234.0  \\\n",
       "데코앤에프  088462  2020/12      14    0.00   51.93   94.10   -1.29  -533558.0   \n",
       "데코앤에프  088462  2021/12      14   44.28  400.84  838.36   -8.96   659968.0   \n",
       "데코앤에프  088462  2022/12      14   42.15  338.18  713.30   15.09  1196437.0   \n",
       "\n",
       "        이자비용(천원)  차입금의존도  ...    자산총계(천원)    부채총계(천원)    자본총계(천원)  연구개발비(천원)   \n",
       "회사명                       ...                                                  \n",
       "데코앤에프  1244829.0   53.52  ...  28751547.0  25548352.0   3203195.0        0.0  \\\n",
       "데코앤에프  2112683.0   43.22  ...  30041367.0  30836170.0   -794803.0        0.0   \n",
       "데코앤에프   174136.0   19.47  ...  22470295.0   6895789.0  15574506.0        0.0   \n",
       "데코앤에프   129821.0   17.37  ...  24546915.0   7278502.0  17268413.0        0.0   \n",
       "\n",
       "       산업분류    자본금(천원)   영업손익(천원)  t-1부실여부  t-2부실여부     자본잠식률  \n",
       "회사명                                                            \n",
       "데코앤에프   제조업  7292808.0 -2550076.0      1.0      0.0  0.560773  \n",
       "데코앤에프   제조업  7292808.0 -2733410.0      0.0      0.0  1.108984  \n",
       "데코앤에프   제조업  5964561.0 -1559990.0      0.0      NaN -1.611174  \n",
       "데코앤에프   제조업  5964561.0  1958654.0      NaN      NaN -1.895169  \n",
       "\n",
       "[4 rows x 54 columns]"
      ]
     },
     "execution_count": 28,
     "metadata": {},
     "output_type": "execute_result"
    }
   ],
   "source": [
    "df_외감[df_외감.index.str.contains('데코앤')]"
   ]
  },
  {
   "cell_type": "code",
   "execution_count": null,
   "metadata": {},
   "outputs": [],
   "source": []
  }
 ],
 "metadata": {
  "kernelspec": {
   "display_name": "Python 3",
   "language": "python",
   "name": "python3"
  },
  "language_info": {
   "codemirror_mode": {
    "name": "ipython",
    "version": 3
   },
   "file_extension": ".py",
   "mimetype": "text/x-python",
   "name": "python",
   "nbconvert_exporter": "python",
   "pygments_lexer": "ipython3",
   "version": "3.10.9"
  },
  "orig_nbformat": 4
 },
 "nbformat": 4,
 "nbformat_minor": 2
}
